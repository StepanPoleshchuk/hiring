{
 "cells": [
  {
   "cell_type": "markdown",
   "id": "c21fe3c8",
   "metadata": {},
   "source": [
    "###### 1. На языке Python или С/С++, написать алгоритм (функцию) определения четности целого числа, который будет аналогичен нижеприведенному по функциональности, но отличен по своей сути.\n",
    "def isEven(value):\n",
    "    return value%2==0"
   ]
  },
  {
   "cell_type": "code",
   "execution_count": 21,
   "id": "e74250ef",
   "metadata": {},
   "outputs": [],
   "source": [
    "def isEven(value):\n",
    "    return value%2==0\n",
    "\n",
    "def my_isEven(value:int) -> bool:\n",
    "    \"\"\"Используя побитовое И\"\"\"\n",
    "    return value&1 == 0   # сравниваем младший разряд\n",
    "\n",
    "def my_isEven2(value:int) -> bool:\n",
    "    \"\"\"Используя побитовые сдвиги\"\"\"\n",
    "    return value == value >> 1 << 1   # заменяем младший разряд нулем путем побитовых сдвигов, сравниваем с исходным значением"
   ]
  },
  {
   "cell_type": "markdown",
   "id": "26a722c7",
   "metadata": {},
   "source": [
    "###### 2. На языках Python(2.7) и/или С++, написать минимум по 2 класса реализовывающих циклический буфер. \n",
    "\n",
    "Объяснить плюсы и минусы каждой реализации."
   ]
  },
  {
   "cell_type": "code",
   "execution_count": 1,
   "id": "45a94528",
   "metadata": {},
   "outputs": [],
   "source": [
    "class CircularBuffer:\n",
    "    \"\"\"Циклический буфер через сдвиг списка\"\"\"\n",
    "    def __init__(self,size):\n",
    "        self._size = size\n",
    "        self._data = [None for x in range(size)]\n",
    "    \n",
    "    \n",
    "    def add(self,value) -> None:\n",
    "        \"\"\"Добавить значение в буфер\"\"\"\n",
    "        self._data.pop()\n",
    "        self._data.insert(0, value)\n",
    "  \n",
    "\n",
    "    def get(self,index:int=0):\n",
    "        \"\"\"Извлечь значение из буфера, можно передать параметр и получать предыдущие элементы в порядке их вставки\"\"\"\n",
    "        if 0 <= index <= self._size - 1:  # IndexError\n",
    "            return self._data[index]\n",
    "   \n",
    "\n",
    "    def get_all(self) -> list:\n",
    "        \"\"\"Извлечь все элементы из буфера в порядке их вставки\"\"\"\n",
    "        return self._data\n",
    " \n",
    "\n",
    "    def __repr__(self):\n",
    "        \"\"\"репрезентация строкой\"\"\"\n",
    "        return self._data.__repr__() + ' (' + str(len(self._data))+' items)'\n",
    "    "
   ]
  },
  {
   "cell_type": "code",
   "execution_count": 2,
   "id": "c72a7b61",
   "metadata": {},
   "outputs": [],
   "source": [
    "class CircularBuffer2():\n",
    "    \"\"\"Циклический буфер через индексацию по списку\"\"\"    \n",
    "    def __init__(self, size):\n",
    "        self._index = 0\n",
    "        self._size = size\n",
    "        self._data = []\n",
    "\n",
    "        \n",
    "    def add(self, value) -> None:\n",
    "        \"\"\"Добавить значение в буфер\"\"\"\n",
    "        if len(self._data) == self._size:\n",
    "            self._data[self._index] = value  # Перезапись при полном заполнении\n",
    "        else:\n",
    "            self._data.append(value)  # Обновление элемена в списке по индексу\n",
    "        self._index = (self._index + 1) % self._size  # Приращивание\n",
    "\n",
    "        \n",
    "    def get(self,score=False):\n",
    "        \"\"\"Извлечь значение из буфера, можно передать параметр и получать предыдущие элементы в порядке их вставки\"\"\"\n",
    "        if score and 0 <= score <= self._size - 1:\n",
    "            return self._data[(self._size + self._index - 1 - score) % self._size]  # если передан score\n",
    "        elif score == False:\n",
    "            return self._data[(self._size + self._index - 1) % self._size]  # если нет score\n",
    "        else: return  # если score больше длинны списка или отрицательный\n",
    "    \n",
    "    \n",
    "    def get_all(self) -> list:\n",
    "        \"\"\"Извлечь все элементы из буфера\"\"\"\n",
    "        return(self._data)\n",
    "    \n",
    "    \n",
    "    def __repr__(self):\n",
    "        \"\"\"репрезентация строкой\"\"\"\n",
    "        return self._data.__repr__() + ' (' + str(len(self._data))+' items)'\n"
   ]
  },
  {
   "cell_type": "code",
   "execution_count": 21,
   "id": "d3bf3af6",
   "metadata": {},
   "outputs": [],
   "source": [
    "a = CircularBuffer(100000)\n",
    "b = CircularBuffer2(100000)"
   ]
  },
  {
   "cell_type": "markdown",
   "id": "16ca2e63",
   "metadata": {},
   "source": [
    "Можем сравнить время используя магическую команду jupiter ноутбука\n",
    ">%%time\n",
    "\n",
    "Сначала поместим в буферы 100000 элементов, потом считаем их"
   ]
  },
  {
   "cell_type": "code",
   "execution_count": 26,
   "id": "b32588b2",
   "metadata": {},
   "outputs": [
    {
     "name": "stdout",
     "output_type": "stream",
     "text": [
      "CPU times: user 6.06 s, sys: 5.54 ms, total: 6.07 s\n",
      "Wall time: 6.06 s\n"
     ]
    }
   ],
   "source": [
    "%%time\n",
    "for i in range(100000):\n",
    "    a.add(i)"
   ]
  },
  {
   "cell_type": "code",
   "execution_count": 27,
   "id": "388aa4ee",
   "metadata": {},
   "outputs": [
    {
     "name": "stdout",
     "output_type": "stream",
     "text": [
      "CPU times: user 79.6 ms, sys: 2.21 ms, total: 81.8 ms\n",
      "Wall time: 80.1 ms\n"
     ]
    }
   ],
   "source": [
    "%%time\n",
    "for i in range(100000):\n",
    "    b.add(i)"
   ]
  },
  {
   "cell_type": "code",
   "execution_count": 28,
   "id": "5f182c9a",
   "metadata": {},
   "outputs": [
    {
     "name": "stdout",
     "output_type": "stream",
     "text": [
      "CPU times: user 44.5 ms, sys: 2.28 ms, total: 46.8 ms\n",
      "Wall time: 45.1 ms\n"
     ]
    }
   ],
   "source": [
    "%%time\n",
    "for i in range (100000):\n",
    "    a.get(i)"
   ]
  },
  {
   "cell_type": "code",
   "execution_count": 29,
   "id": "e46dd8ea",
   "metadata": {},
   "outputs": [
    {
     "name": "stdout",
     "output_type": "stream",
     "text": [
      "CPU times: user 79.1 ms, sys: 2.45 ms, total: 81.6 ms\n",
      "Wall time: 79.8 ms\n"
     ]
    }
   ],
   "source": [
    "%%time\n",
    "for i in range (100000):\n",
    "    b.get(i)"
   ]
  },
  {
   "cell_type": "markdown",
   "id": "3f7ca334",
   "metadata": {},
   "source": [
    "1) Как и ожидалось, на запись 1 буфер в разы медленнее, \"двигать\" элементы путем pop() и insert() очень дорого. На чтение нет никаких сложных операций, чтение основывается только на индексе.\n",
    "\n",
    "2) 2 буфер на запись использует только append() и работу с индексами. На чтение он медленнее, так как использует большее количество арифметических операций, чем буфер 1."
   ]
  },
  {
   "cell_type": "markdown",
   "id": "17af69bc",
   "metadata": {},
   "source": [
    "###### 3. На языке Python или С/С++, написать функцию, которая быстрее всего (по процессорным тикам) отсортирует данный ей массив чисел.\n",
    "\n",
    "Массив может быть любого размера со случайным порядком чисел (в том числе и отсортированным).\n",
    "Объяснить почему вы считаете, что функция соответствует заданным критериям."
   ]
  },
  {
   "cell_type": "markdown",
   "id": "105ac73a",
   "metadata": {},
   "source": [
    "Я решил использовать сортировку слиянием.\n",
    "\n",
    "Сортировка сортировке рознь! Все зависит от исходного массива(от количества элементов в нем, от их веса и порядка). Основным преимуществом сортировки слиянием является надежное время выполнения алгоритма и его эффективность при сортировке больших массивов. Временная сложность равна O(N logN) не зависит от порядка элементов в массиве. В отличие от Quick Sort, которая чаще бывает быстрее, в сортировке слиянием нет каких-либо неудачных решений, которые приводят к плохому времени выполнения. Однако на маленьких массивах слияние будет неэффективно.\n",
    "\n",
    "Для удобства и оптимизации в 2001 году была реализована сортировка Timsort, она сортирует вставкой массивы до 64 элементов, либо разбивает большой массив на подмассивы и сортирует их вставкой, подмассивы собираются в единый массив с помощью модифицированной сортировки слиянием. Для ее вызова:\n",
    "\n",
    ">list.sort()\n",
    "\n",
    ">sorted(list)"
   ]
  },
  {
   "cell_type": "code",
   "execution_count": 47,
   "id": "527f91dd",
   "metadata": {},
   "outputs": [],
   "source": [
    "def mergeSort(arr: list) -> None:\n",
    "    \"\"\"Сортировка слиянием\"\"\"\n",
    "    if len(arr) > 1:  # Пока в массиве больше одного элемента будем его разделять\n",
    "        mid = len(arr)//2\n",
    "        # Выделяем две примерно равные части массива\n",
    "        L = arr[:mid]\n",
    "        R = arr[mid:]\n",
    "        # Продолжаем делить пока не получим по 1 элементу в массиве\n",
    "        mergeSort(L)\n",
    "        mergeSort(R)\n",
    "\n",
    "        left_index = right_index = sorted_index = 0\n",
    "        \n",
    "        # Процесс склеивания\n",
    "        while left_index < len(L) and right_index < len(R):  # Пока имеем и в L и в R элементы которые еще не перебрали\n",
    "            if L[left_index] < R[right_index]:\n",
    "                arr[sorted_index] = L[left_index]\n",
    "                left_index += 1\n",
    "            else:\n",
    "                arr[sorted_index] = R[right_index]\n",
    "                right_index += 1\n",
    "            sorted_index += 1\n",
    "\n",
    "        while left_index < len(L):  # Когда R уже перебрали, оставшиеся из L добавляем\n",
    "            arr[sorted_index] = L[left_index]\n",
    "            left_index += 1\n",
    "            sorted_index += 1\n",
    "\n",
    "        while right_index < len(R):  # Когда L уже перебрали, оставшиеся из R добавляем\n",
    "            arr[sorted_index] = R[right_index]\n",
    "            right_index += 1\n",
    "            sorted_index += 1\n"
   ]
  }
 ],
 "metadata": {
  "kernelspec": {
   "display_name": "Python 3 (ipykernel)",
   "language": "python",
   "name": "python3"
  },
  "language_info": {
   "codemirror_mode": {
    "name": "ipython",
    "version": 3
   },
   "file_extension": ".py",
   "mimetype": "text/x-python",
   "name": "python",
   "nbconvert_exporter": "python",
   "pygments_lexer": "ipython3",
   "version": "3.9.7"
  }
 },
 "nbformat": 4,
 "nbformat_minor": 5
}
